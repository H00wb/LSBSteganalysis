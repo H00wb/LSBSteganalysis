{
  "nbformat": 4,
  "nbformat_minor": 0,
  "metadata": {
    "colab": {
      "provenance": [],
      "machine_shape": "hm",
      "gpuType": "L4"
    },
    "kernelspec": {
      "name": "python3",
      "display_name": "Python 3"
    },
    "language_info": {
      "name": "python"
    },
    "accelerator": "GPU"
  },
  "cells": [
    {
      "cell_type": "code",
      "source": [
        "from google.colab import drive\n",
        "drive.mount('/content/drive')"
      ],
      "metadata": {
        "colab": {
          "base_uri": "https://localhost:8080/"
        },
        "id": "eLDlYr8o18RY",
        "outputId": "071ab379-1d5b-4e2f-93db-20351e3533a9"
      },
      "execution_count": null,
      "outputs": [
        {
          "output_type": "stream",
          "name": "stdout",
          "text": [
            "Drive already mounted at /content/drive; to attempt to forcibly remount, call drive.mount(\"/content/drive\", force_remount=True).\n"
          ]
        }
      ]
    },
    {
      "cell_type": "code",
      "execution_count": null,
      "metadata": {
        "id": "WD4xMc9L1Zlp"
      },
      "outputs": [],
      "source": [
        "import numpy as np\n",
        "import cv2\n",
        "import os\n",
        "\n",
        "def embed_message(image, message):\n",
        "    binary_message = ''.join(format(ord(i), '08b') for i in message)\n",
        "    binary_message += '1111111111111110'\n",
        "    binary_message_length = len(binary_message)\n",
        "\n",
        "    data_index = 0\n",
        "    for values in image:\n",
        "        for pixel in values:\n",
        "            r, g, b = [format(i, '08b') for i in pixel]\n",
        "            if data_index < binary_message_length:\n",
        "                pixel[0] = int(r[:-1] + binary_message[data_index], 2)\n",
        "                data_index += 1\n",
        "            if data_index < binary_message_length:\n",
        "                pixel[1] = int(g[:-1] + binary_message[data_index], 2)\n",
        "                data_index += 1\n",
        "            if data_index < binary_message_length:\n",
        "                pixel[2] = int(b[:-1] + binary_message[data_index], 2)\n",
        "                data_index += 1\n",
        "            if data_index >= binary_message_length:\n",
        "                break\n",
        "    return image\n",
        "\n",
        "def embed_in_images(input_dir, output_dir, message):\n",
        "    if not os.path.exists(output_dir):\n",
        "        os.makedirs(output_dir)\n",
        "\n",
        "    for filename in os.listdir(input_dir):\n",
        "        if filename.endswith('.png'):\n",
        "            image_path = os.path.join(input_dir, filename)\n",
        "            image = cv2.imread(image_path)\n",
        "            stego_image = embed_message(image, message)\n",
        "            output_path = os.path.join(output_dir, filename)\n",
        "            cv2.imwrite(output_path, stego_image)\n",
        "            print(f\"Processed {filename}\")\n",
        "\n",
        "\n",
        "input_directory = '/content/drive/MyDrive/Bitirme/LSB/cover_images'\n",
        "output_directory = '/content/stego_images'\n",
        "secret_message = \"Hicbir sey\"\n",
        "embed_in_images(input_directory, output_directory, secret_message)\n"
      ]
    },
    {
      "cell_type": "markdown",
      "source": [
        "Aşağıda, static steganalysis prensiplerine dayalı, ancak derin öğrenme kullanan örnekte, HOG, Color Histograms ve LBP gibi statik özellikler çıkarılır ve bu özellikler kullanılarak bir sinir ağı modeli eğitilir."
      ],
      "metadata": {
        "id": "dCvOODrqACtq"
      }
    },
    {
      "cell_type": "code",
      "source": [
        "import numpy as np\n",
        "import cv2\n",
        "from skimage.feature import hog, local_binary_pattern\n",
        "\n",
        "def extract_features(image):\n",
        "    image = cv2.resize(image, (512, 512))\n",
        "    gray_image = cv2.cvtColor(image, cv2.COLOR_BGR2GRAY)\n",
        "    hog_features, hog_image = hog(gray_image, pixels_per_cell=(32, 32), cells_per_block=(2, 2), visualize=True, channel_axis=None)\n",
        "    chans = cv2.split(image)\n",
        "    colors = (\"b\", \"g\", \"r\")\n",
        "    features = []\n",
        "\n",
        "    for (chan, color) in zip(chans, colors):\n",
        "        hist = cv2.calcHist([chan], [0], None, [256], [0, 256])\n",
        "        hist = cv2.normalize(hist, hist).flatten()\n",
        "        features.extend(hist)\n",
        "\n",
        "    # Local Binary Patterns (LBP)\n",
        "    radius = 3\n",
        "    n_points = 8 * radius\n",
        "    lbp = local_binary_pattern(gray_image, n_points, radius, method=\"uniform\")\n",
        "    (lbp_hist, _) = np.histogram(lbp.ravel(), bins=np.arange(0, n_points + 3), range=(0, n_points + 2))\n",
        "    lbp_hist = lbp_hist.astype(\"float\")\n",
        "    lbp_hist /= (lbp_hist.sum() + 1e-6)\n",
        "\n",
        "\n",
        "    combined_features = np.hstack([hog_features, features, lbp_hist])\n",
        "\n",
        "    return combined_features\n"
      ],
      "metadata": {
        "id": "ECH5gJfF1g-3"
      },
      "execution_count": null,
      "outputs": []
    },
    {
      "cell_type": "code",
      "source": [
        "import tensorflow as tf\n",
        "from tensorflow.keras.models import Sequential\n",
        "from tensorflow.keras.layers import Dense, Flatten, Dropout, BatchNormalization\n",
        "from tensorflow.keras.optimizers import Adam\n",
        "from tensorflow.keras.losses import BinaryCrossentropy\n",
        "from tensorflow.keras.callbacks import EarlyStopping\n",
        "from sklearn.model_selection import train_test_split\n",
        "from sklearn.preprocessing import StandardScaler\n",
        "import numpy as np\n",
        "import cv2\n",
        "import os\n",
        "\n",
        "def load_data(cover_dir, stego_dir):\n",
        "    cover_files = sorted([os.path.join(cover_dir, f) for f in os.listdir(cover_dir) if f.endswith('.png')])\n",
        "    stego_files = sorted([os.path.join(stego_dir, f) for f in os.listdir(stego_dir) if f.endswith('.png')])\n",
        "\n",
        "    data = []\n",
        "    labels = []\n",
        "\n",
        "    for image_path in cover_files:\n",
        "        image = cv2.imread(image_path)\n",
        "        features = extract_features(image)\n",
        "        data.append(features)\n",
        "        labels.append(0)\n",
        "\n",
        "    for image_path in stego_files:\n",
        "        image = cv2.imread(image_path)\n",
        "        features = extract_features(image)\n",
        "        data.append(features)\n",
        "        labels.append(1)\n",
        "\n",
        "    return np.array(data), np.array(labels)\n",
        "\n",
        "cover_directory = '/content/drive/MyDrive/Bitirme/LSB/cover_images'\n",
        "stego_directory = '/content/stego_images'\n",
        "X, y = load_data(cover_directory, stego_directory)\n",
        "\n",
        "X_train, X_val, y_train, y_val = train_test_split(X, y, test_size=0.2, random_state=42)\n",
        "\n",
        "scaler = StandardScaler()\n",
        "X_train = scaler.fit_transform(X_train)\n",
        "X_val = scaler.transform(X_val)\n",
        "\n",
        "model = Sequential([\n",
        "    Dense(512, activation='relu', input_shape=(X_train.shape[1],)),\n",
        "    BatchNormalization(),\n",
        "    Dropout(0.5),\n",
        "    Dense(256, activation='relu'),\n",
        "    BatchNormalization(),\n",
        "    Dropout(0.5),\n",
        "    Dense(128, activation='relu'),\n",
        "    BatchNormalization(),\n",
        "    Dropout(0.5),\n",
        "    Dense(1, activation='sigmoid')\n",
        "])\n",
        "\n",
        "model.compile(optimizer=Adam(learning_rate=0.001), loss=BinaryCrossentropy(), metrics=['accuracy'])\n",
        "\n",
        "early_stopping = EarlyStopping(monitor='val_loss', patience=10, restore_best_weights=True)\n",
        "\n",
        "history = model.fit(\n",
        "    X_train, y_train,\n",
        "    epochs=50,\n",
        "    batch_size=32,\n",
        "    validation_data=(X_val, y_val),\n",
        "    callbacks=[early_stopping]\n",
        ")\n",
        "\n",
        "# Modeli kaydetme\n",
        "model.save('/content/stego_classifier.h5')\n"
      ],
      "metadata": {
        "id": "CujUCzoZ1n5F"
      },
      "execution_count": null,
      "outputs": []
    },
    {
      "cell_type": "code",
      "source": [
        "import numpy as np\n",
        "import cv2\n",
        "from tensorflow.keras.models import load_model\n",
        "import os\n",
        "\n",
        "model = load_model('/content/stego_classifier.h5')\n",
        "\n",
        "\n",
        "def classify_image(image_path):\n",
        "    image = cv2.imread(image_path)\n",
        "    image = cv2.resize(image, (512, 512))\n",
        "    image = image.astype(np.float32) / 255.0\n",
        "    features = extract_features(image)\n",
        "    features = scaler.transform([features])\n",
        "\n",
        "    prediction = model.predict(features)[0][0]\n",
        "    predicted_label = 'Stego' if prediction >= 0.5 else 'Cover'\n",
        "    prediction_accuracy = prediction if prediction >= 0.5 else 1 - prediction\n",
        "\n",
        "    return predicted_label, prediction_accuracy * 100\n",
        "\n",
        "\n",
        "def calculate_detection_accuracy(test_images_dir):\n",
        "    test_images = []\n",
        "\n",
        "    for filename in os.listdir(test_images_dir):\n",
        "        if filename.endswith('.png'):\n",
        "            image_path = os.path.join(test_images_dir, filename)\n",
        "            test_images.append(image_path)\n",
        "\n",
        "    for i, image_path in enumerate(test_images):\n",
        "        predicted_label, prediction_accuracy = classify_image(image_path)\n",
        "        print(f\"Image {image_path}, Prediction: {predicted_label}, Prediction accuracy: {prediction_accuracy:.4f}%\")\n",
        "\n",
        "test_images_directory = '/content/drive/MyDrive/Bitirme/LSB/stego_images'\n",
        "\n",
        "calculate_detection_accuracy(test_images_directory)\n"
      ],
      "metadata": {
        "id": "8miT9fFu1s1v"
      },
      "execution_count": null,
      "outputs": []
    }
  ]
}